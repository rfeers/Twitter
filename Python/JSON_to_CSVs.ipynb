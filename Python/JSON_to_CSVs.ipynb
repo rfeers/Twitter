{
 "cells": [
  {
   "cell_type": "markdown",
   "metadata": {},
   "source": [
    "# JSON to CSV the right way"
   ]
  },
  {
   "cell_type": "code",
   "execution_count": 1,
   "metadata": {},
   "outputs": [],
   "source": [
    "import pandas as pd"
   ]
  },
  {
   "cell_type": "markdown",
   "metadata": {},
   "source": []
  },
  {
   "cell_type": "code",
   "execution_count": 2,
   "metadata": {},
   "outputs": [],
   "source": [
    "#____________________________________________________________________ SIMPLE JSON AND LIST\n",
    "simple_json = {\n",
    "    'name': 'David',\n",
    "    'city': 'London',\n",
    "    'income': 80000,\n",
    "}\n",
    "\n",
    "simple_json_2 = {\n",
    "    'name': 'Taylor',\n",
    "    'city': 'Chicago',\n",
    "    'income': 120000,\n",
    "}\n",
    "\n",
    "simple_json_list = [\n",
    "    simple_json, \n",
    "    simple_json_2\n",
    "\n",
    "]\n",
    "\n",
    "#____________________________________________________________________ MULTIPLE LEVELS JSON AND LIST\n",
    "\n",
    "multiple_levels_json = {\n",
    "    'name': 'David',\n",
    "    'city': 'London',\n",
    "    'income': 80000,\n",
    "    'skills': {\n",
    "        'python': 'advanced',\n",
    "        'SQL': 'advanced',\n",
    "        'GCP': 'mid'\n",
    "    },\n",
    "    'roles': {\n",
    "        \"project manager\":False,\n",
    "        \"data engineer\":False,\n",
    "        \"data scientist\":True,\n",
    "        \"data analyst\":False,\n",
    "        }\n",
    "    }\n",
    "\n",
    "\n",
    "\n",
    "multiple_levels_json_2 = {\n",
    "    'name': 'Taylor',\n",
    "    'city': 'Chicago',\n",
    "    'income': 120000,\n",
    "    'skills': {\n",
    "        'python': 'mid',\n",
    "        'SQL': 'advanced',\n",
    "        'GCP': 'beginner'\n",
    "    },\n",
    "    'roles': {\n",
    "        \"project manager\":False,\n",
    "        \"data engineer\":False,\n",
    "        \"data scientist\":False,\n",
    "        \"data analyst\":True\n",
    "        }\n",
    "    }\n",
    "\n",
    "multiple_level_json_list = [\n",
    "    multiple_levels_json, \n",
    "    multiple_levels_json_2\n",
    "\n",
    "]\n",
    "\n",
    "\n",
    "#____________________________________________________________________ MULTIPLE LEVELS JSON AND LIST WITH NESTED LIST\n",
    "\n",
    "nested_json = {\n",
    "    'name': 'David',\n",
    "    'city': 'London',\n",
    "    'income': 80000,\n",
    "    'skills': [\"python\", \"SQL\",\"GCP\"],\n",
    "    'roles': {\n",
    "        \"project manager\":False,\n",
    "        \"data engineer\":False,\n",
    "        \"data scientist\":True,\n",
    "        \"data analyst\":False,\n",
    "        }\n",
    "    }\n",
    "\n",
    "\n",
    "\n",
    "nested_json_2 = {\n",
    "    'name': 'Taylor',\n",
    "    'city': 'Chicago',\n",
    "    'income': 120000,\n",
    "    'skills': [\"python\", \"SQL\",\"PowerBI\",\"Looker\"],\n",
    "    'roles': {\n",
    "        \"project manager\":False,\n",
    "        \"data engineer\":False,\n",
    "        \"data scientist\":False,\n",
    "        \"data analyst\":True\n",
    "        }\n",
    "    }\n",
    "\n",
    "nested_json_list = [\n",
    "    nested_json, \n",
    "    nested_json_2\n",
    "\n",
    "]"
   ]
  },
  {
   "cell_type": "markdown",
   "metadata": {},
   "source": [
    "## Converting a simple JSON\n",
    "### A single dictionary"
   ]
  },
  {
   "cell_type": "code",
   "execution_count": 3,
   "metadata": {},
   "outputs": [
    {
     "data": {
      "text/html": [
       "<div>\n",
       "<style scoped>\n",
       "    .dataframe tbody tr th:only-of-type {\n",
       "        vertical-align: middle;\n",
       "    }\n",
       "\n",
       "    .dataframe tbody tr th {\n",
       "        vertical-align: top;\n",
       "    }\n",
       "\n",
       "    .dataframe thead th {\n",
       "        text-align: right;\n",
       "    }\n",
       "</style>\n",
       "<table border=\"1\" class=\"dataframe\">\n",
       "  <thead>\n",
       "    <tr style=\"text-align: right;\">\n",
       "      <th></th>\n",
       "      <th>name</th>\n",
       "      <th>city</th>\n",
       "      <th>income</th>\n",
       "    </tr>\n",
       "  </thead>\n",
       "  <tbody>\n",
       "    <tr>\n",
       "      <th>0</th>\n",
       "      <td>David</td>\n",
       "      <td>London</td>\n",
       "      <td>80000</td>\n",
       "    </tr>\n",
       "  </tbody>\n",
       "</table>\n",
       "</div>"
      ],
      "text/plain": [
       "    name    city  income\n",
       "0  David  London   80000"
      ]
     },
     "execution_count": 3,
     "metadata": {},
     "output_type": "execute_result"
    }
   ],
   "source": [
    "pd.json_normalize(simple_json)"
   ]
  },
  {
   "cell_type": "markdown",
   "metadata": {},
   "source": [
    "### A list of dictionaries"
   ]
  },
  {
   "cell_type": "code",
   "execution_count": 4,
   "metadata": {},
   "outputs": [
    {
     "data": {
      "text/html": [
       "<div>\n",
       "<style scoped>\n",
       "    .dataframe tbody tr th:only-of-type {\n",
       "        vertical-align: middle;\n",
       "    }\n",
       "\n",
       "    .dataframe tbody tr th {\n",
       "        vertical-align: top;\n",
       "    }\n",
       "\n",
       "    .dataframe thead th {\n",
       "        text-align: right;\n",
       "    }\n",
       "</style>\n",
       "<table border=\"1\" class=\"dataframe\">\n",
       "  <thead>\n",
       "    <tr style=\"text-align: right;\">\n",
       "      <th></th>\n",
       "      <th>name</th>\n",
       "      <th>city</th>\n",
       "      <th>income</th>\n",
       "    </tr>\n",
       "  </thead>\n",
       "  <tbody>\n",
       "    <tr>\n",
       "      <th>0</th>\n",
       "      <td>David</td>\n",
       "      <td>London</td>\n",
       "      <td>80000</td>\n",
       "    </tr>\n",
       "    <tr>\n",
       "      <th>1</th>\n",
       "      <td>Taylor</td>\n",
       "      <td>Chicago</td>\n",
       "      <td>120000</td>\n",
       "    </tr>\n",
       "  </tbody>\n",
       "</table>\n",
       "</div>"
      ],
      "text/plain": [
       "     name     city  income\n",
       "0   David   London   80000\n",
       "1  Taylor  Chicago  120000"
      ]
     },
     "execution_count": 4,
     "metadata": {},
     "output_type": "execute_result"
    }
   ],
   "source": [
    "pd.json_normalize(simple_json_list)"
   ]
  },
  {
   "cell_type": "markdown",
   "metadata": {},
   "source": []
  },
  {
   "cell_type": "code",
   "execution_count": 5,
   "metadata": {},
   "outputs": [
    {
     "data": {
      "text/html": [
       "<div>\n",
       "<style scoped>\n",
       "    .dataframe tbody tr th:only-of-type {\n",
       "        vertical-align: middle;\n",
       "    }\n",
       "\n",
       "    .dataframe tbody tr th {\n",
       "        vertical-align: top;\n",
       "    }\n",
       "\n",
       "    .dataframe thead th {\n",
       "        text-align: right;\n",
       "    }\n",
       "</style>\n",
       "<table border=\"1\" class=\"dataframe\">\n",
       "  <thead>\n",
       "    <tr style=\"text-align: right;\">\n",
       "      <th></th>\n",
       "      <th>name</th>\n",
       "      <th>city</th>\n",
       "      <th>income</th>\n",
       "    </tr>\n",
       "  </thead>\n",
       "  <tbody>\n",
       "    <tr>\n",
       "      <th>0</th>\n",
       "      <td>David</td>\n",
       "      <td>London</td>\n",
       "      <td>NaN</td>\n",
       "    </tr>\n",
       "    <tr>\n",
       "      <th>1</th>\n",
       "      <td>Taylor</td>\n",
       "      <td>Chicago</td>\n",
       "      <td>120000.0</td>\n",
       "    </tr>\n",
       "  </tbody>\n",
       "</table>\n",
       "</div>"
      ],
      "text/plain": [
       "     name     city    income\n",
       "0   David   London       NaN\n",
       "1  Taylor  Chicago  120000.0"
      ]
     },
     "execution_count": 5,
     "metadata": {},
     "output_type": "execute_result"
    }
   ],
   "source": [
    "simple_json = {\n",
    "    'name': 'David',\n",
    "    'city': 'London',\n",
    "}\n",
    "\n",
    "simple_json_2 = {\n",
    "    'name': 'Taylor',\n",
    "    'city': 'Chicago',\n",
    "    'income': 120000,\n",
    "}\n",
    "\n",
    "simple_json_list = [\n",
    "    simple_json, \n",
    "    simple_json_2\n",
    "\n",
    "]\n",
    "\n",
    "pd.json_normalize(simple_json_list)"
   ]
  },
  {
   "cell_type": "markdown",
   "metadata": {},
   "source": [
    "## Selecting only those columns of our interest"
   ]
  },
  {
   "cell_type": "code",
   "execution_count": 6,
   "metadata": {},
   "outputs": [
    {
     "data": {
      "text/html": [
       "<div>\n",
       "<style scoped>\n",
       "    .dataframe tbody tr th:only-of-type {\n",
       "        vertical-align: middle;\n",
       "    }\n",
       "\n",
       "    .dataframe tbody tr th {\n",
       "        vertical-align: top;\n",
       "    }\n",
       "\n",
       "    .dataframe thead th {\n",
       "        text-align: right;\n",
       "    }\n",
       "</style>\n",
       "<table border=\"1\" class=\"dataframe\">\n",
       "  <thead>\n",
       "    <tr style=\"text-align: right;\">\n",
       "      <th></th>\n",
       "      <th>name</th>\n",
       "      <th>city</th>\n",
       "    </tr>\n",
       "  </thead>\n",
       "  <tbody>\n",
       "    <tr>\n",
       "      <th>0</th>\n",
       "      <td>David</td>\n",
       "      <td>London</td>\n",
       "    </tr>\n",
       "    <tr>\n",
       "      <th>1</th>\n",
       "      <td>Taylor</td>\n",
       "      <td>Chicago</td>\n",
       "    </tr>\n",
       "  </tbody>\n",
       "</table>\n",
       "</div>"
      ],
      "text/plain": [
       "     name     city\n",
       "0   David   London\n",
       "1  Taylor  Chicago"
      ]
     },
     "execution_count": 6,
     "metadata": {},
     "output_type": "execute_result"
    }
   ],
   "source": [
    "# Fields to include\n",
    "fields = ['name', 'city']\n",
    "\n",
    "# Filter the JSON data\n",
    "filtered_json_list = [{key: value for key, value in item.items() if key in fields} for item in simple_json_list]\n",
    "\n",
    "pd.json_normalize(filtered_json_list)"
   ]
  },
  {
   "cell_type": "markdown",
   "metadata": {},
   "source": [
    "## Converting a JSON with multiple levels\n",
    "### A single dictionary"
   ]
  },
  {
   "cell_type": "code",
   "execution_count": 7,
   "metadata": {},
   "outputs": [
    {
     "data": {
      "text/html": [
       "<div>\n",
       "<style scoped>\n",
       "    .dataframe tbody tr th:only-of-type {\n",
       "        vertical-align: middle;\n",
       "    }\n",
       "\n",
       "    .dataframe tbody tr th {\n",
       "        vertical-align: top;\n",
       "    }\n",
       "\n",
       "    .dataframe thead th {\n",
       "        text-align: right;\n",
       "    }\n",
       "</style>\n",
       "<table border=\"1\" class=\"dataframe\">\n",
       "  <thead>\n",
       "    <tr style=\"text-align: right;\">\n",
       "      <th></th>\n",
       "      <th>name</th>\n",
       "      <th>city</th>\n",
       "      <th>income</th>\n",
       "      <th>skills.python</th>\n",
       "      <th>skills.SQL</th>\n",
       "      <th>skills.GCP</th>\n",
       "      <th>roles.project manager</th>\n",
       "      <th>roles.data engineer</th>\n",
       "      <th>roles.data scientist</th>\n",
       "      <th>roles.data analyst</th>\n",
       "    </tr>\n",
       "  </thead>\n",
       "  <tbody>\n",
       "    <tr>\n",
       "      <th>0</th>\n",
       "      <td>David</td>\n",
       "      <td>London</td>\n",
       "      <td>80000</td>\n",
       "      <td>advanced</td>\n",
       "      <td>advanced</td>\n",
       "      <td>mid</td>\n",
       "      <td>False</td>\n",
       "      <td>False</td>\n",
       "      <td>True</td>\n",
       "      <td>False</td>\n",
       "    </tr>\n",
       "  </tbody>\n",
       "</table>\n",
       "</div>"
      ],
      "text/plain": [
       "    name    city  income skills.python skills.SQL skills.GCP  \\\n",
       "0  David  London   80000      advanced   advanced        mid   \n",
       "\n",
       "   roles.project manager  roles.data engineer  roles.data scientist  \\\n",
       "0                  False                False                  True   \n",
       "\n",
       "   roles.data analyst  \n",
       "0               False  "
      ]
     },
     "execution_count": 7,
     "metadata": {},
     "output_type": "execute_result"
    }
   ],
   "source": [
    "pd.json_normalize(multiple_levels_json)"
   ]
  },
  {
   "cell_type": "code",
   "execution_count": 8,
   "metadata": {},
   "outputs": [
    {
     "data": {
      "text/html": [
       "<div>\n",
       "<style scoped>\n",
       "    .dataframe tbody tr th:only-of-type {\n",
       "        vertical-align: middle;\n",
       "    }\n",
       "\n",
       "    .dataframe tbody tr th {\n",
       "        vertical-align: top;\n",
       "    }\n",
       "\n",
       "    .dataframe thead th {\n",
       "        text-align: right;\n",
       "    }\n",
       "</style>\n",
       "<table border=\"1\" class=\"dataframe\">\n",
       "  <thead>\n",
       "    <tr style=\"text-align: right;\">\n",
       "      <th></th>\n",
       "      <th>name</th>\n",
       "      <th>city</th>\n",
       "      <th>income</th>\n",
       "      <th>skills</th>\n",
       "      <th>roles</th>\n",
       "    </tr>\n",
       "  </thead>\n",
       "  <tbody>\n",
       "    <tr>\n",
       "      <th>0</th>\n",
       "      <td>David</td>\n",
       "      <td>London</td>\n",
       "      <td>80000</td>\n",
       "      <td>{'python': 'advanced', 'SQL': 'advanced', 'GCP...</td>\n",
       "      <td>{'project manager': False, 'data engineer': Fa...</td>\n",
       "    </tr>\n",
       "  </tbody>\n",
       "</table>\n",
       "</div>"
      ],
      "text/plain": [
       "    name    city  income                                             skills  \\\n",
       "0  David  London   80000  {'python': 'advanced', 'SQL': 'advanced', 'GCP...   \n",
       "\n",
       "                                               roles  \n",
       "0  {'project manager': False, 'data engineer': Fa...  "
      ]
     },
     "execution_count": 8,
     "metadata": {},
     "output_type": "execute_result"
    }
   ],
   "source": [
    "pd.json_normalize(multiple_levels_json, max_level=0)"
   ]
  },
  {
   "cell_type": "code",
   "execution_count": 14,
   "metadata": {},
   "outputs": [
    {
     "data": {
      "text/html": [
       "<div>\n",
       "<style scoped>\n",
       "    .dataframe tbody tr th:only-of-type {\n",
       "        vertical-align: middle;\n",
       "    }\n",
       "\n",
       "    .dataframe tbody tr th {\n",
       "        vertical-align: top;\n",
       "    }\n",
       "\n",
       "    .dataframe thead th {\n",
       "        text-align: right;\n",
       "    }\n",
       "</style>\n",
       "<table border=\"1\" class=\"dataframe\">\n",
       "  <thead>\n",
       "    <tr style=\"text-align: right;\">\n",
       "      <th></th>\n",
       "      <th>name</th>\n",
       "      <th>city</th>\n",
       "      <th>income</th>\n",
       "      <th>skills.python</th>\n",
       "      <th>skills.SQL</th>\n",
       "      <th>skills.GCP</th>\n",
       "      <th>roles.project manager</th>\n",
       "      <th>roles.data engineer</th>\n",
       "      <th>roles.data scientist</th>\n",
       "      <th>roles.data analyst</th>\n",
       "    </tr>\n",
       "  </thead>\n",
       "  <tbody>\n",
       "    <tr>\n",
       "      <th>0</th>\n",
       "      <td>David</td>\n",
       "      <td>London</td>\n",
       "      <td>80000</td>\n",
       "      <td>advanced</td>\n",
       "      <td>advanced</td>\n",
       "      <td>mid</td>\n",
       "      <td>False</td>\n",
       "      <td>False</td>\n",
       "      <td>True</td>\n",
       "      <td>False</td>\n",
       "    </tr>\n",
       "  </tbody>\n",
       "</table>\n",
       "</div>"
      ],
      "text/plain": [
       "    name    city  income skills.python skills.SQL skills.GCP  \\\n",
       "0  David  London   80000      advanced   advanced        mid   \n",
       "\n",
       "   roles.project manager  roles.data engineer  roles.data scientist  \\\n",
       "0                  False                False                  True   \n",
       "\n",
       "   roles.data analyst  \n",
       "0               False  "
      ]
     },
     "execution_count": 14,
     "metadata": {},
     "output_type": "execute_result"
    }
   ],
   "source": [
    "pd.json_normalize(multiple_levels_json)"
   ]
  },
  {
   "cell_type": "markdown",
   "metadata": {},
   "source": [
    "### A list of dictionaries"
   ]
  },
  {
   "cell_type": "code",
   "execution_count": 10,
   "metadata": {},
   "outputs": [
    {
     "data": {
      "text/html": [
       "<div>\n",
       "<style scoped>\n",
       "    .dataframe tbody tr th:only-of-type {\n",
       "        vertical-align: middle;\n",
       "    }\n",
       "\n",
       "    .dataframe tbody tr th {\n",
       "        vertical-align: top;\n",
       "    }\n",
       "\n",
       "    .dataframe thead th {\n",
       "        text-align: right;\n",
       "    }\n",
       "</style>\n",
       "<table border=\"1\" class=\"dataframe\">\n",
       "  <thead>\n",
       "    <tr style=\"text-align: right;\">\n",
       "      <th></th>\n",
       "      <th>name</th>\n",
       "      <th>city</th>\n",
       "      <th>income</th>\n",
       "      <th>skills.python</th>\n",
       "      <th>skills.SQL</th>\n",
       "      <th>skills.GCP</th>\n",
       "      <th>roles.project manager</th>\n",
       "      <th>roles.data engineer</th>\n",
       "      <th>roles.data scientist</th>\n",
       "      <th>roles.data analyst</th>\n",
       "    </tr>\n",
       "  </thead>\n",
       "  <tbody>\n",
       "    <tr>\n",
       "      <th>0</th>\n",
       "      <td>David</td>\n",
       "      <td>London</td>\n",
       "      <td>80000</td>\n",
       "      <td>advanced</td>\n",
       "      <td>advanced</td>\n",
       "      <td>mid</td>\n",
       "      <td>False</td>\n",
       "      <td>False</td>\n",
       "      <td>True</td>\n",
       "      <td>False</td>\n",
       "    </tr>\n",
       "    <tr>\n",
       "      <th>1</th>\n",
       "      <td>Taylor</td>\n",
       "      <td>Chicago</td>\n",
       "      <td>120000</td>\n",
       "      <td>mid</td>\n",
       "      <td>advanced</td>\n",
       "      <td>beginner</td>\n",
       "      <td>False</td>\n",
       "      <td>False</td>\n",
       "      <td>False</td>\n",
       "      <td>True</td>\n",
       "    </tr>\n",
       "  </tbody>\n",
       "</table>\n",
       "</div>"
      ],
      "text/plain": [
       "     name     city  income skills.python skills.SQL skills.GCP  \\\n",
       "0   David   London   80000      advanced   advanced        mid   \n",
       "1  Taylor  Chicago  120000           mid   advanced   beginner   \n",
       "\n",
       "   roles.project manager  roles.data engineer  roles.data scientist  \\\n",
       "0                  False                False                  True   \n",
       "1                  False                False                 False   \n",
       "\n",
       "   roles.data analyst  \n",
       "0               False  \n",
       "1                True  "
      ]
     },
     "execution_count": 10,
     "metadata": {},
     "output_type": "execute_result"
    }
   ],
   "source": [
    "pd.json_normalize(multiple_level_json_list)"
   ]
  },
  {
   "cell_type": "markdown",
   "metadata": {},
   "source": []
  },
  {
   "cell_type": "markdown",
   "metadata": {},
   "source": [
    "## Converting a JSON with multiple levels and a nested List\n",
    "### A single dictionary"
   ]
  },
  {
   "cell_type": "code",
   "execution_count": 13,
   "metadata": {},
   "outputs": [
    {
     "data": {
      "text/html": [
       "<div>\n",
       "<style scoped>\n",
       "    .dataframe tbody tr th:only-of-type {\n",
       "        vertical-align: middle;\n",
       "    }\n",
       "\n",
       "    .dataframe tbody tr th {\n",
       "        vertical-align: top;\n",
       "    }\n",
       "\n",
       "    .dataframe thead th {\n",
       "        text-align: right;\n",
       "    }\n",
       "</style>\n",
       "<table border=\"1\" class=\"dataframe\">\n",
       "  <thead>\n",
       "    <tr style=\"text-align: right;\">\n",
       "      <th></th>\n",
       "      <th>name</th>\n",
       "      <th>city</th>\n",
       "      <th>income</th>\n",
       "      <th>skills</th>\n",
       "      <th>roles.project manager</th>\n",
       "      <th>roles.data engineer</th>\n",
       "      <th>roles.data scientist</th>\n",
       "      <th>roles.data analyst</th>\n",
       "    </tr>\n",
       "  </thead>\n",
       "  <tbody>\n",
       "    <tr>\n",
       "      <th>0</th>\n",
       "      <td>David</td>\n",
       "      <td>London</td>\n",
       "      <td>80000</td>\n",
       "      <td>[python, SQL, GCP]</td>\n",
       "      <td>False</td>\n",
       "      <td>False</td>\n",
       "      <td>True</td>\n",
       "      <td>False</td>\n",
       "    </tr>\n",
       "    <tr>\n",
       "      <th>1</th>\n",
       "      <td>Taylor</td>\n",
       "      <td>Chicago</td>\n",
       "      <td>120000</td>\n",
       "      <td>[python, SQL, PowerBI, Looker]</td>\n",
       "      <td>False</td>\n",
       "      <td>False</td>\n",
       "      <td>False</td>\n",
       "      <td>True</td>\n",
       "    </tr>\n",
       "  </tbody>\n",
       "</table>\n",
       "</div>"
      ],
      "text/plain": [
       "     name     city  income                          skills  \\\n",
       "0   David   London   80000              [python, SQL, GCP]   \n",
       "1  Taylor  Chicago  120000  [python, SQL, PowerBI, Looker]   \n",
       "\n",
       "   roles.project manager  roles.data engineer  roles.data scientist  \\\n",
       "0                  False                False                  True   \n",
       "1                  False                False                 False   \n",
       "\n",
       "   roles.data analyst  \n",
       "0               False  \n",
       "1                True  "
      ]
     },
     "execution_count": 13,
     "metadata": {},
     "output_type": "execute_result"
    }
   ],
   "source": [
    "pd.json_normalize(nested_json_list)"
   ]
  },
  {
   "cell_type": "code",
   "execution_count": 12,
   "metadata": {},
   "outputs": [
    {
     "data": {
      "text/html": [
       "<div>\n",
       "<style scoped>\n",
       "    .dataframe tbody tr th:only-of-type {\n",
       "        vertical-align: middle;\n",
       "    }\n",
       "\n",
       "    .dataframe tbody tr th {\n",
       "        vertical-align: top;\n",
       "    }\n",
       "\n",
       "    .dataframe thead th {\n",
       "        text-align: right;\n",
       "    }\n",
       "</style>\n",
       "<table border=\"1\" class=\"dataframe\">\n",
       "  <thead>\n",
       "    <tr style=\"text-align: right;\">\n",
       "      <th></th>\n",
       "      <th>0</th>\n",
       "      <th>name</th>\n",
       "      <th>city</th>\n",
       "    </tr>\n",
       "  </thead>\n",
       "  <tbody>\n",
       "    <tr>\n",
       "      <th>0</th>\n",
       "      <td>python</td>\n",
       "      <td>David</td>\n",
       "      <td>London</td>\n",
       "    </tr>\n",
       "    <tr>\n",
       "      <th>1</th>\n",
       "      <td>SQL</td>\n",
       "      <td>David</td>\n",
       "      <td>London</td>\n",
       "    </tr>\n",
       "    <tr>\n",
       "      <th>2</th>\n",
       "      <td>GCP</td>\n",
       "      <td>David</td>\n",
       "      <td>London</td>\n",
       "    </tr>\n",
       "  </tbody>\n",
       "</table>\n",
       "</div>"
      ],
      "text/plain": [
       "        0   name    city\n",
       "0  python  David  London\n",
       "1     SQL  David  London\n",
       "2     GCP  David  London"
      ]
     },
     "execution_count": 12,
     "metadata": {},
     "output_type": "execute_result"
    }
   ],
   "source": [
    "pd.json_normalize(\n",
    "    nested_json, \n",
    "    record_path=['skills'],\n",
    "    meta=['name', 'city']\n",
    "    )"
   ]
  }
 ],
 "metadata": {
  "kernelspec": {
   "display_name": "writing_env",
   "language": "python",
   "name": "writing_env"
  },
  "language_info": {
   "codemirror_mode": {
    "name": "ipython",
    "version": 3
   },
   "file_extension": ".py",
   "mimetype": "text/x-python",
   "name": "python",
   "nbconvert_exporter": "python",
   "pygments_lexer": "ipython3",
   "version": "3.10.11"
  }
 },
 "nbformat": 4,
 "nbformat_minor": 2
}
