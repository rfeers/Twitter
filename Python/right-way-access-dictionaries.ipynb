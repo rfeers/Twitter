{
 "cells": [
  {
   "cell_type": "markdown",
   "metadata": {},
   "source": [
    "# The right way to access dictionaries in Python\n",
    "These examples will help clarify how dictionaries are created, accessed, and manipulated in Python, emphasizing the use of safer methods like `get()` and `setdefault()` to handle potential errors more gracefully."
   ]
  },
  {
   "cell_type": "markdown",
   "metadata": {},
   "source": [
    "## Creating a Dictionary in Python"
   ]
  },
  {
   "cell_type": "code",
   "execution_count": 1,
   "metadata": {},
   "outputs": [
    {
     "name": "stdout",
     "output_type": "stream",
     "text": [
      "{'Data Scientist': 100000, 'Data Analyst': 80000, 'Data Engineer': 120000}\n"
     ]
    }
   ],
   "source": [
    "# Creating a simple dictionary with keys and values\n",
    "salaries = {\n",
    "    'Data Scientist': 100000, \n",
    "    'Data Analyst': 80000, \n",
    "    'Data Engineer': 120000}\n",
    "\n",
    "print(salaries)\n"
   ]
  },
  {
   "cell_type": "markdown",
   "metadata": {},
   "source": [
    "## Common Pitfall: Accessing Values"
   ]
  },
  {
   "cell_type": "code",
   "execution_count": 3,
   "metadata": {},
   "outputs": [
    {
     "name": "stdout",
     "output_type": "stream",
     "text": [
      "100000\n"
     ]
    },
    {
     "ename": "KeyError",
     "evalue": "'Professor'",
     "output_type": "error",
     "traceback": [
      "\u001b[0;31m---------------------------------------------------------------------------\u001b[0m",
      "\u001b[0;31mKeyError\u001b[0m                                  Traceback (most recent call last)",
      "Cell \u001b[0;32mIn[3], line 4\u001b[0m\n\u001b[1;32m      1\u001b[0m \u001b[38;5;66;03m# Accessing a value using the key\u001b[39;00m\n\u001b[1;32m      2\u001b[0m \u001b[38;5;28mprint\u001b[39m(salaries[\u001b[38;5;124m'\u001b[39m\u001b[38;5;124mData Scientist\u001b[39m\u001b[38;5;124m'\u001b[39m])  \u001b[38;5;66;03m# Outputs: 100000\u001b[39;00m\n\u001b[0;32m----> 4\u001b[0m \u001b[38;5;28mprint\u001b[39m(\u001b[43msalaries\u001b[49m\u001b[43m[\u001b[49m\u001b[38;5;124;43m'\u001b[39;49m\u001b[38;5;124;43mProfessor\u001b[39;49m\u001b[38;5;124;43m'\u001b[39;49m\u001b[43m]\u001b[49m)  \u001b[38;5;66;03m# This will raise a KeyError, as 'Professor' key doesn't exist\u001b[39;00m\n",
      "\u001b[0;31mKeyError\u001b[0m: 'Professor'"
     ]
    }
   ],
   "source": [
    "# Accessing a value using the key\n",
    "print(salaries['Data Scientist'])  # Outputs: 100000\n",
    "\n",
    "print(salaries['Professor'])  # This will raise a KeyError, as 'Professor' key doesn't exist\n"
   ]
  },
  {
   "cell_type": "markdown",
   "metadata": {},
   "source": [
    "## Safer Approach 1: Using the get() Method\n",
    "The `get()` method allows us to retrieve a value without risking a KeyError."
   ]
  },
  {
   "cell_type": "code",
   "execution_count": 4,
   "metadata": {},
   "outputs": [
    {
     "name": "stdout",
     "output_type": "stream",
     "text": [
      "100000\n",
      "Key not found\n"
     ]
    }
   ],
   "source": [
    "# Using get() to safely access a value\n",
    "salary = salaries.get('Data Scientist', 'Key not found')\n",
    "print(salary)  # Outputs: 30\n",
    "\n",
    "# Using get() with a default value if the key doesn't exist\n",
    "salary = salaries.get('Professor', 'Key not found')\n",
    "print(salary)  # Outputs: 30"
   ]
  },
  {
   "cell_type": "markdown",
   "metadata": {},
   "source": [
    "## Safer Approach 2: Using the setdefault() Method\n",
    "The `setdefault()` method allows us to retrieve a value and also add a key with a default value if it doesn't exist."
   ]
  },
  {
   "cell_type": "code",
   "execution_count": 5,
   "metadata": {},
   "outputs": [
    {
     "name": "stdout",
     "output_type": "stream",
     "text": [
      "70000\n",
      "{'Data Scientist': 100000, 'Data Analyst': 80000, 'Data Engineer': 120000, 'Professor': 70000}\n"
     ]
    }
   ],
   "source": [
    "# Using setdefault() to get a value and set it if not present\n",
    "salary = salaries.setdefault('Professor', 70000)\n",
    "print(salary)  # Outputs: 70000 since 'Professor' was not in the dictionary\n",
    "\n",
    "# Examining the dictionary after using setdefault()\n",
    "print(salaries) # Outputs: {'Data Scientist': 100000, 'Data Analyst': 80000, 'Data Engineer': 120000, 'Professor': 70000}\n",
    "\n"
   ]
  },
  {
   "cell_type": "markdown",
   "metadata": {},
   "source": [
    "## Final Recommendations\n",
    "- Use `get()` when you need to retrieve a value without risking a KeyError and when you don't need to modify the dictionary.\n",
    "\n",
    "- Use `setdefault()` when you want to retrieve a value and also add a key with a default value if it doesn't exist, thereby modifying the dictionary."
   ]
  }
 ],
 "metadata": {
  "kernelspec": {
   "display_name": "writing_env",
   "language": "python",
   "name": "writing_env"
  },
  "language_info": {
   "codemirror_mode": {
    "name": "ipython",
    "version": 3
   },
   "file_extension": ".py",
   "mimetype": "text/x-python",
   "name": "python",
   "nbconvert_exporter": "python",
   "pygments_lexer": "ipython3",
   "version": "3.10.11"
  }
 },
 "nbformat": 4,
 "nbformat_minor": 2
}
