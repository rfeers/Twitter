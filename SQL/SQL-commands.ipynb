{
 "cells": [
  {
   "cell_type": "code",
   "execution_count": 12,
   "id": "a34255c9",
   "metadata": {},
   "outputs": [],
   "source": [
    "import pandas as pd\n",
    "from pandasql import sqldf, load_meat, load_births\n",
    "pysqldf = lambda q: sqldf(q)\n",
    "import numpy as np\n",
    "import duckdb"
   ]
  },
  {
   "cell_type": "markdown",
   "id": "f221e9cf",
   "metadata": {},
   "source": [
    "If you do not have duckdb installed in your environment, just execute the following code: \n",
    "\n",
    "!pip install duckdb"
   ]
  },
  {
   "cell_type": "markdown",
   "id": "c51f30ac",
   "metadata": {},
   "source": [
    "# SQL OLAP EXPRESSION SYNTAX REFERENCE\n",
    "SQL is a powerful language for data analysis. This series will delve into Online Analytical Processing (OLAP) expressions, a valuable extension that unlocks deeper insights from your data.\n",
    "\n",
    "We'll leverage the comprehensive Oracle's [OLAP Expression Syntax Reference as a guide](https://docs.oracle.com/cd/E11882_01/olap.112/e23381/olap_functions.htm#OLAXS169)\n",
    "\n",
    "**What are OLAP Expressions?**\n",
    "\n",
    "Think of them as supercharged SQL expressions. \n",
    "They combine familiar elements like analytic functions, operators, and single-row functions to perform advanced calculations and analyze trends within your data.\n",
    "\n",
    "**Why Learn Them?**\n",
    "\n",
    "If you're already comfortable with SQL, the good news is that a large portion of OLAP syntax will feel intuitive. Mastering these expressions empowers you to:\n",
    "- Calculate rankings and shares\n",
    "- Analyze trends over time (e.g., moving averages)\n",
    "- Compare performance across different dimensions\n",
    "- Perform complex aggregations (e.g., year-to-date)\n",
    "\n",
    "**What to Expect:**\n",
    "This series will be structured into two main sections:\n",
    "- **OLAP Functions:** We'll explore various functions designed for powerful data manipulation.\n",
    "- **Row Functions:** Dive deep into functions that operate on specific rows within your data set.\n",
    "\n",
    "Every week I will be posting two commands and adding them in their corresponding section. "
   ]
  },
  {
   "cell_type": "markdown",
   "id": "8e6de9d1",
   "metadata": {},
   "source": [
    "## 0. Defining the sample (and dummy) table\n",
    "To exemplify each command, some dummy data is generated to work with."
   ]
  },
  {
   "cell_type": "code",
   "execution_count": 4,
   "id": "728ac91f",
   "metadata": {},
   "outputs": [
    {
     "data": {
      "text/html": [
       "<div>\n",
       "<style scoped>\n",
       "    .dataframe tbody tr th:only-of-type {\n",
       "        vertical-align: middle;\n",
       "    }\n",
       "\n",
       "    .dataframe tbody tr th {\n",
       "        vertical-align: top;\n",
       "    }\n",
       "\n",
       "    .dataframe thead th {\n",
       "        text-align: right;\n",
       "    }\n",
       "</style>\n",
       "<table border=\"1\" class=\"dataframe\">\n",
       "  <thead>\n",
       "    <tr style=\"text-align: right;\">\n",
       "      <th></th>\n",
       "      <th>Date</th>\n",
       "      <th>Expenses</th>\n",
       "      <th>Type</th>\n",
       "      <th>Day</th>\n",
       "      <th>Month</th>\n",
       "      <th>Year</th>\n",
       "    </tr>\n",
       "  </thead>\n",
       "  <tbody>\n",
       "    <tr>\n",
       "      <th>0</th>\n",
       "      <td>2022-01-01</td>\n",
       "      <td>143.50</td>\n",
       "      <td>Gift</td>\n",
       "      <td>1</td>\n",
       "      <td>1</td>\n",
       "      <td>2022</td>\n",
       "    </tr>\n",
       "    <tr>\n",
       "      <th>1</th>\n",
       "      <td>2022-01-01</td>\n",
       "      <td>25.00</td>\n",
       "      <td>Clothes</td>\n",
       "      <td>1</td>\n",
       "      <td>1</td>\n",
       "      <td>2022</td>\n",
       "    </tr>\n",
       "    <tr>\n",
       "      <th>2</th>\n",
       "      <td>2022-01-01</td>\n",
       "      <td>NaN</td>\n",
       "      <td>Gaming</td>\n",
       "      <td>1</td>\n",
       "      <td>1</td>\n",
       "      <td>2022</td>\n",
       "    </tr>\n",
       "    <tr>\n",
       "      <th>3</th>\n",
       "      <td>2022-01-01</td>\n",
       "      <td>24.00</td>\n",
       "      <td>Clothes</td>\n",
       "      <td>1</td>\n",
       "      <td>1</td>\n",
       "      <td>2022</td>\n",
       "    </tr>\n",
       "    <tr>\n",
       "      <th>4</th>\n",
       "      <td>2022-01-02</td>\n",
       "      <td>3.75</td>\n",
       "      <td>Coffee</td>\n",
       "      <td>2</td>\n",
       "      <td>1</td>\n",
       "      <td>2022</td>\n",
       "    </tr>\n",
       "    <tr>\n",
       "      <th>5</th>\n",
       "      <td>2022-01-05</td>\n",
       "      <td>20.00</td>\n",
       "      <td>Gift</td>\n",
       "      <td>5</td>\n",
       "      <td>1</td>\n",
       "      <td>2022</td>\n",
       "    </tr>\n",
       "    <tr>\n",
       "      <th>6</th>\n",
       "      <td>2022-01-06</td>\n",
       "      <td>5.00</td>\n",
       "      <td>Clothes</td>\n",
       "      <td>6</td>\n",
       "      <td>1</td>\n",
       "      <td>2022</td>\n",
       "    </tr>\n",
       "    <tr>\n",
       "      <th>7</th>\n",
       "      <td>2022-01-07</td>\n",
       "      <td>100.00</td>\n",
       "      <td>Gaming</td>\n",
       "      <td>7</td>\n",
       "      <td>1</td>\n",
       "      <td>2022</td>\n",
       "    </tr>\n",
       "    <tr>\n",
       "      <th>8</th>\n",
       "      <td>2022-01-08</td>\n",
       "      <td>24.50</td>\n",
       "      <td>Clothes</td>\n",
       "      <td>8</td>\n",
       "      <td>1</td>\n",
       "      <td>2022</td>\n",
       "    </tr>\n",
       "    <tr>\n",
       "      <th>9</th>\n",
       "      <td>2022-01-09</td>\n",
       "      <td>2.00</td>\n",
       "      <td>Coffee</td>\n",
       "      <td>9</td>\n",
       "      <td>1</td>\n",
       "      <td>2022</td>\n",
       "    </tr>\n",
       "    <tr>\n",
       "      <th>10</th>\n",
       "      <td>2022-01-10</td>\n",
       "      <td>100.00</td>\n",
       "      <td>Book</td>\n",
       "      <td>10</td>\n",
       "      <td>1</td>\n",
       "      <td>2022</td>\n",
       "    </tr>\n",
       "  </tbody>\n",
       "</table>\n",
       "</div>"
      ],
      "text/plain": [
       "         Date  Expenses     Type  Day  Month  Year\n",
       "0  2022-01-01    143.50     Gift    1      1  2022\n",
       "1  2022-01-01     25.00  Clothes    1      1  2022\n",
       "2  2022-01-01       NaN   Gaming    1      1  2022\n",
       "3  2022-01-01     24.00  Clothes    1      1  2022\n",
       "4  2022-01-02      3.75   Coffee    2      1  2022\n",
       "5  2022-01-05     20.00     Gift    5      1  2022\n",
       "6  2022-01-06      5.00  Clothes    6      1  2022\n",
       "7  2022-01-07    100.00   Gaming    7      1  2022\n",
       "8  2022-01-08     24.50  Clothes    8      1  2022\n",
       "9  2022-01-09      2.00   Coffee    9      1  2022\n",
       "10 2022-01-10    100.00     Book   10      1  2022"
      ]
     },
     "execution_count": 4,
     "metadata": {},
     "output_type": "execute_result"
    }
   ],
   "source": [
    "# Define the data for the DataFrame\n",
    "data = {\n",
    "    'Date': ['1/1/22', '1/1/22', '1/1/22', '1/1/22', '2/1/22','5/1/22', '6/1/22', '7/1/22', '8/1/22', '9/1/22', '10/1/22'],\n",
    "    'Expenses': [143.5, 25, np.nan, 24, 3.75, 20, 5, 100, 24.5, 2, 100],\n",
    "    'Type': ['Gift', 'Clothes', 'Gaming', 'Clothes', 'Coffee', 'Gift', 'Clothes', 'Gaming', 'Clothes', 'Coffee', \"Book\"]\n",
    "}\n",
    "\n",
    "# Create a DataFrame\n",
    "df = pd.DataFrame(data)\n",
    "\n",
    "# Convert the 'Date' column to datetime format\n",
    "df['Date'] = pd.to_datetime(df['Date'], format='%d/%m/%y')\n",
    "\n",
    "# Generate an extended dataframe with day, month and year. \n",
    "df_ext = df\n",
    "\n",
    "# Extract the 'Day' and 'Year' from the 'Date' column\n",
    "df_ext['Day'] = df['Date'].dt.day\n",
    "df_ext['Month'] = df['Date'].dt.month\n",
    "df_ext['Year'] = df['Date'].dt.year\n",
    "\n",
    "# Create a DataFrame\n",
    "df_ext\n"
   ]
  },
  {
   "cell_type": "markdown",
   "id": "5233791e",
   "metadata": {},
   "source": [
    "## 1. OLAP Functions\n",
    "The OLAP functions extend the syntax of the SQL analytic functions. \n",
    "Using these OLAP functions, you can create all standard calculated measures, including rank, share, prior and future periods, period-to-date, parallel period, moving aggregates, and cumulative aggregates.\n",
    "Commands are grouped into these categories:\n",
    "\n",
    "- Aggregate Functions\n",
    "- Analytic Functions\n",
    "- Hierarchical Functions\n",
    "- Lag Functions\n",
    "- OLAP DML Functions\n",
    "- Rank Functions\n",
    "- Share Functions\n",
    "- Window Functions\n"
   ]
  },
  {
   "cell_type": "markdown",
   "id": "56826db0",
   "metadata": {},
   "source": [
    "## Aggregate Functions"
   ]
  },
  {
   "cell_type": "markdown",
   "id": "0f3bdded",
   "metadata": {},
   "source": [
    "### AVG\n",
    "`AVG` returns the average of a selection of values calculated over a dimension."
   ]
  },
  {
   "cell_type": "code",
   "execution_count": 26,
   "id": "4bde153e",
   "metadata": {},
   "outputs": [
    {
     "data": {
      "text/plain": [
       "┌─────────┬──────────────┐\n",
       "│  Type   │ AVG_expenses │\n",
       "│ varchar │    double    │\n",
       "├─────────┼──────────────┤\n",
       "│ Gaming  │        100.0 │\n",
       "│ Book    │        100.0 │\n",
       "│ Gift    │        81.75 │\n",
       "│ Clothes │       19.625 │\n",
       "│ Coffee  │        2.875 │\n",
       "└─────────┴──────────────┘"
      ]
     },
     "execution_count": 26,
     "metadata": {},
     "output_type": "execute_result"
    }
   ],
   "source": [
    "duckdb.sql(\"\"\"\n",
    "           \n",
    "SELECT\n",
    "       Type,\n",
    "       AVG(Expenses) AS AVG_expenses\n",
    "FROM df\n",
    "GROUP BY 1\n",
    "ORDER BY 2 DESC\n",
    "           \n",
    "    \"\"\")"
   ]
  },
  {
   "cell_type": "markdown",
   "id": "3a60ccf7",
   "metadata": {},
   "source": [
    "### COUNT\n",
    "`COUNT` tallies the number of data values identified by a selection of members in any dimension."
   ]
  },
  {
   "cell_type": "code",
   "execution_count": 27,
   "id": "bcadbc02",
   "metadata": {},
   "outputs": [
    {
     "data": {
      "text/plain": [
       "┌─────────┬─────────────┐\n",
       "│  Type   │ num_records │\n",
       "│ varchar │    int64    │\n",
       "├─────────┼─────────────┤\n",
       "│ Clothes │           4 │\n",
       "│ Gift    │           2 │\n",
       "│ Gaming  │           2 │\n",
       "│ Coffee  │           2 │\n",
       "│ Book    │           1 │\n",
       "└─────────┴─────────────┘"
      ]
     },
     "execution_count": 27,
     "metadata": {},
     "output_type": "execute_result"
    }
   ],
   "source": [
    "duckdb.sql(\"\"\"\n",
    "           \n",
    "SELECT\n",
    "       Type,\n",
    "       COUNT(*) AS num_records\n",
    "FROM df\n",
    "GROUP BY 1\n",
    "ORDER BY 2 DESC\n",
    "           \n",
    "    \"\"\")"
   ]
  },
  {
   "cell_type": "markdown",
   "id": "9ae08cdc",
   "metadata": {},
   "source": [
    "### MAX & MIN\n",
    "- `MAX`returns the largest value of a selection of data values calculated over a dimension.\n",
    "- `MIN`returns the smallest value of a selection of data values calculated over a dimension."
   ]
  },
  {
   "cell_type": "code",
   "execution_count": 30,
   "id": "5b48a417",
   "metadata": {},
   "outputs": [
    {
     "data": {
      "text/plain": [
       "┌─────────┬─────────────┬─────────────┐\n",
       "│  Type   │ max_expense │ min_expense │\n",
       "│ varchar │   double    │   double    │\n",
       "├─────────┼─────────────┼─────────────┤\n",
       "│ Book    │       100.0 │       100.0 │\n",
       "│ Clothes │        25.0 │         5.0 │\n",
       "│ Coffee  │        3.75 │         2.0 │\n",
       "│ Gaming  │       100.0 │       100.0 │\n",
       "│ Gift    │       143.5 │        20.0 │\n",
       "└─────────┴─────────────┴─────────────┘"
      ]
     },
     "execution_count": 30,
     "metadata": {},
     "output_type": "execute_result"
    }
   ],
   "source": [
    "duckdb.sql(\"\"\"\n",
    "           \n",
    "SELECT\n",
    "       Type,\n",
    "       MAX(Expenses) AS max_expense,\n",
    "       MIN(Expenses) AS min_expense,\n",
    "FROM df\n",
    "GROUP BY 1\n",
    "ORDER BY 1\n",
    "           \n",
    "    \"\"\")"
   ]
  },
  {
   "cell_type": "markdown",
   "id": "0d9a0d64",
   "metadata": {},
   "source": [
    "### SUM\n",
    "`SUM` returns the total of a selection of values calculated over a Time dimension. "
   ]
  },
  {
   "cell_type": "code",
   "execution_count": 31,
   "id": "2454893d",
   "metadata": {},
   "outputs": [
    {
     "data": {
      "text/plain": [
       "┌─────────┬────────────────┐\n",
       "│  Type   │ total_expenses │\n",
       "│ varchar │     double     │\n",
       "├─────────┼────────────────┤\n",
       "│ Book    │          100.0 │\n",
       "│ Clothes │           78.5 │\n",
       "│ Coffee  │           5.75 │\n",
       "│ Gaming  │          100.0 │\n",
       "│ Gift    │          163.5 │\n",
       "└─────────┴────────────────┘"
      ]
     },
     "execution_count": 31,
     "metadata": {},
     "output_type": "execute_result"
    }
   ],
   "source": [
    "duckdb.sql(\"\"\"\n",
    "           \n",
    "SELECT\n",
    "       Type,\n",
    "       SUM(Expenses) AS total_expenses,\n",
    "FROM df\n",
    "GROUP BY 1\n",
    "ORDER BY 1\n",
    "           \n",
    "    \"\"\")"
   ]
  },
  {
   "cell_type": "markdown",
   "id": "8a3d6d02",
   "metadata": {},
   "source": [
    "### RANK\n",
    "`RANK` orders the members of a dimension based on the values of an expression. The function returns the sequence numbers of the dimension members."
   ]
  },
  {
   "cell_type": "code",
   "execution_count": 32,
   "id": "96e8cf3a",
   "metadata": {},
   "outputs": [
    {
     "data": {
      "text/plain": [
       "┌─────────────────────┬──────────┬─────────┬───────┬───────┬───────┬───────┐\n",
       "│        Date         │ Expenses │  Type   │  Day  │ Month │ Year  │ Rank  │\n",
       "│    timestamp_ns     │  double  │ varchar │ int32 │ int32 │ int32 │ int64 │\n",
       "├─────────────────────┼──────────┼─────────┼───────┼───────┼───────┼───────┤\n",
       "│ 2022-01-01 00:00:00 │    143.5 │ Gift    │     1 │     1 │  2022 │     1 │\n",
       "│ 2022-01-07 00:00:00 │    100.0 │ Gaming  │     7 │     1 │  2022 │     2 │\n",
       "│ 2022-01-10 00:00:00 │    100.0 │ Book    │    10 │     1 │  2022 │     2 │\n",
       "│ 2022-01-01 00:00:00 │     25.0 │ Clothes │     1 │     1 │  2022 │     4 │\n",
       "│ 2022-01-08 00:00:00 │     24.5 │ Clothes │     8 │     1 │  2022 │     5 │\n",
       "│ 2022-01-01 00:00:00 │     24.0 │ Clothes │     1 │     1 │  2022 │     6 │\n",
       "│ 2022-01-05 00:00:00 │     20.0 │ Gift    │     5 │     1 │  2022 │     7 │\n",
       "│ 2022-01-06 00:00:00 │      5.0 │ Clothes │     6 │     1 │  2022 │     8 │\n",
       "│ 2022-01-02 00:00:00 │     3.75 │ Coffee  │     2 │     1 │  2022 │     9 │\n",
       "│ 2022-01-09 00:00:00 │      2.0 │ Coffee  │     9 │     1 │  2022 │    10 │\n",
       "│ 2022-01-01 00:00:00 │     NULL │ Gaming  │     1 │     1 │  2022 │    11 │\n",
       "├─────────────────────┴──────────┴─────────┴───────┴───────┴───────┴───────┤\n",
       "│ 11 rows                                                        7 columns │\n",
       "└──────────────────────────────────────────────────────────────────────────┘"
      ]
     },
     "execution_count": 32,
     "metadata": {},
     "output_type": "execute_result"
    }
   ],
   "source": [
    "# Get the top-3 busiest train stations\n",
    "duckdb.sql(\"\"\"\n",
    "           \n",
    "SELECT *, \n",
    "       RANK() OVER (ORDER BY Expenses DESC) AS Rank,\n",
    "FROM df\n",
    "           \n",
    "    \"\"\")"
   ]
  },
  {
   "cell_type": "markdown",
   "id": "ae0106cc",
   "metadata": {},
   "source": [
    "## Lag Functions\n",
    "`LAG` retrieves data from previous rows over the columns we indicate. \n"
   ]
  },
  {
   "cell_type": "code",
   "execution_count": 15,
   "id": "d560fb6f",
   "metadata": {},
   "outputs": [
    {
     "data": {
      "text/plain": [
       "┌─────────────────────┬──────────┬─────────┬───────┬───────┬───────┬───────────────────────────────────────────────────┐\n",
       "│        Date         │ Expenses │  Type   │  Day  │ Month │ Year  │ lag(Expenses) OVER (PARTITION BY \"Type\" ORDER B…  │\n",
       "│    timestamp_ns     │  double  │ varchar │ int32 │ int32 │ int32 │                      double                       │\n",
       "├─────────────────────┼──────────┼─────────┼───────┼───────┼───────┼───────────────────────────────────────────────────┤\n",
       "│ 2022-01-01 00:00:00 │     NULL │ Gaming  │     1 │     1 │  2022 │                                              NULL │\n",
       "│ 2022-01-07 00:00:00 │    100.0 │ Gaming  │     7 │     1 │  2022 │                                              NULL │\n",
       "│ 2022-01-01 00:00:00 │    143.5 │ Gift    │     1 │     1 │  2022 │                                              NULL │\n",
       "│ 2022-01-05 00:00:00 │     20.0 │ Gift    │     5 │     1 │  2022 │                                             143.5 │\n",
       "│ 2022-01-10 00:00:00 │    100.0 │ Book    │    10 │     1 │  2022 │                                              NULL │\n",
       "│ 2022-01-02 00:00:00 │     3.75 │ Coffee  │     2 │     1 │  2022 │                                              NULL │\n",
       "│ 2022-01-09 00:00:00 │      2.0 │ Coffee  │     9 │     1 │  2022 │                                              3.75 │\n",
       "│ 2022-01-01 00:00:00 │     25.0 │ Clothes │     1 │     1 │  2022 │                                              NULL │\n",
       "│ 2022-01-01 00:00:00 │     24.0 │ Clothes │     1 │     1 │  2022 │                                              25.0 │\n",
       "│ 2022-01-06 00:00:00 │      5.0 │ Clothes │     6 │     1 │  2022 │                                              24.0 │\n",
       "│ 2022-01-08 00:00:00 │     24.5 │ Clothes │     8 │     1 │  2022 │                                               5.0 │\n",
       "├─────────────────────┴──────────┴─────────┴───────┴───────┴───────┴───────────────────────────────────────────────────┤\n",
       "│ 11 rows                                                                                                    7 columns │\n",
       "└──────────────────────────────────────────────────────────────────────────────────────────────────────────────────────┘"
      ]
     },
     "execution_count": 15,
     "metadata": {},
     "output_type": "execute_result"
    }
   ],
   "source": [
    "# Get the top-3 busiest train stations\n",
    "duckdb.sql(\"\"\"\n",
    "           \n",
    "SELECT *,\n",
    "        LAG(Expenses) OVER(PARTITION BY Type ORDER BY Date)\n",
    "FROM df\n",
    "           \n",
    "    \"\"\")"
   ]
  },
  {
   "cell_type": "markdown",
   "id": "b1e3394b",
   "metadata": {},
   "source": [
    "## Rank Functions\n",
    "The rank functions numerate the records of a table with a specific order. The way they deal with ties makes us have three different commands to do so:\n",
    "- `RANK`Deals with ties, giving the same number to records with the same value, leaving gaps after them. \n",
    "- `ROW_NUMBER` Give unique numbers to all records. If the value is the same, it just gives a random order. \n",
    "- `DENSE_RANK` Deals with ties, giving the same number to records with the same value, without leaving gaps after them. "
   ]
  },
  {
   "cell_type": "code",
   "execution_count": 14,
   "id": "f6b82cdb",
   "metadata": {},
   "outputs": [
    {
     "data": {
      "text/plain": [
       "┌─────────────────────┬──────────┬─────────┬───────┬───────┬───────┬───────┬────────────┬────────────┐\n",
       "│        Date         │ Expenses │  Type   │  Day  │ Month │ Year  │ Rank  │ Row_Number │ Dense_Rank │\n",
       "│    timestamp_ns     │  double  │ varchar │ int32 │ int32 │ int32 │ int64 │   int64    │   int64    │\n",
       "├─────────────────────┼──────────┼─────────┼───────┼───────┼───────┼───────┼────────────┼────────────┤\n",
       "│ 2022-01-01 00:00:00 │    143.5 │ Gift    │     1 │     1 │  2022 │     1 │          1 │          1 │\n",
       "│ 2022-01-07 00:00:00 │    100.0 │ Gaming  │     7 │     1 │  2022 │     2 │          2 │          2 │\n",
       "│ 2022-01-10 00:00:00 │    100.0 │ Book    │    10 │     1 │  2022 │     2 │          3 │          2 │\n",
       "│ 2022-01-01 00:00:00 │     25.0 │ Clothes │     1 │     1 │  2022 │     4 │          4 │          3 │\n",
       "│ 2022-01-08 00:00:00 │     24.5 │ Clothes │     8 │     1 │  2022 │     5 │          5 │          4 │\n",
       "│ 2022-01-01 00:00:00 │     24.0 │ Clothes │     1 │     1 │  2022 │     6 │          6 │          5 │\n",
       "│ 2022-01-05 00:00:00 │     20.0 │ Gift    │     5 │     1 │  2022 │     7 │          7 │          6 │\n",
       "│ 2022-01-06 00:00:00 │      5.0 │ Clothes │     6 │     1 │  2022 │     8 │          8 │          7 │\n",
       "│ 2022-01-02 00:00:00 │     3.75 │ Coffee  │     2 │     1 │  2022 │     9 │          9 │          8 │\n",
       "│ 2022-01-09 00:00:00 │      2.0 │ Coffee  │     9 │     1 │  2022 │    10 │         10 │          9 │\n",
       "│ 2022-01-01 00:00:00 │     NULL │ Gaming  │     1 │     1 │  2022 │    11 │         11 │         10 │\n",
       "├─────────────────────┴──────────┴─────────┴───────┴───────┴───────┴───────┴────────────┴────────────┤\n",
       "│ 11 rows                                                                                  9 columns │\n",
       "└────────────────────────────────────────────────────────────────────────────────────────────────────┘"
      ]
     },
     "execution_count": 14,
     "metadata": {},
     "output_type": "execute_result"
    }
   ],
   "source": [
    "# Get the top-3 busiest train stations\n",
    "duckdb.sql(\"\"\"\n",
    "           \n",
    "SELECT *, \n",
    "       RANK() OVER (ORDER BY Expenses DESC) AS Rank,\n",
    "       ROW_NUMBER() OVER (ORDER BY Expenses DESC) AS Row_Number,\n",
    "       DENSE_RANK() OVER (ORDER BY Expenses DESC) AS Dense_Rank\n",
    "FROM df\n",
    "           \n",
    "    \"\"\")"
   ]
  },
  {
   "cell_type": "markdown",
   "id": "1170e726",
   "metadata": {},
   "source": [
    "# 2. SQL ROW FUNCTIONS\n",
    "The OLAP row functions extend the syntax of the SQL row functions for use with dimensional objects. \n",
    "If you use the SQL row functions, then this syntax is familiar. \n",
    "You can use these functions on relational data when loading it into cubes and cube dimensions, and with the OLAP functions when creating calculated measures.\n",
    "\n",
    "This chapter describes the row functions of the OLAP expression syntax.\n",
    "\n",
    "The row functions are grouped into the following categories:\n",
    "\n",
    "- Numeric Functions\n",
    "- Character Functions That Return Characters\n",
    "- NLS Character Functions\n",
    "- Character Functions That Return Numbers\n",
    "- Datetime Functions\n",
    "- General Comparison Functions\n",
    "- Conversion Functions\n",
    "- Encoding and Decoding Function\n",
    "- Null-Related Functions\n",
    "- Environment and Identifier Functions\n",
    "\n",
    "In process of being constructed! 🏗️"
   ]
  },
  {
   "cell_type": "markdown",
   "id": "b61e90c8",
   "metadata": {},
   "source": [
    "## Null-Related Functions\n",
    "These functions facilitate null handling:"
   ]
  },
  {
   "cell_type": "markdown",
   "id": "7e57799a",
   "metadata": {},
   "source": [
    "### COALESCE\n",
    "`COALESCE` returns the first non-null expression in a list."
   ]
  },
  {
   "cell_type": "code",
   "execution_count": 6,
   "id": "201b5b10",
   "metadata": {},
   "outputs": [
    {
     "data": {
      "text/plain": [
       "┌─────────────────────┬──────────┬─────────┬───────┬───────┬───────┬──────────────┐\n",
       "│        Date         │ Expenses │  Type   │  Day  │ Month │ Year  │ Expenses_mod │\n",
       "│    timestamp_ns     │  double  │ varchar │ int32 │ int32 │ int32 │    double    │\n",
       "├─────────────────────┼──────────┼─────────┼───────┼───────┼───────┼──────────────┤\n",
       "│ 2022-01-01 00:00:00 │    143.5 │ Gift    │     1 │     1 │  2022 │        143.5 │\n",
       "│ 2022-01-01 00:00:00 │     25.0 │ Clothes │     1 │     1 │  2022 │         25.0 │\n",
       "│ 2022-01-01 00:00:00 │     NULL │ Gaming  │     1 │     1 │  2022 │          0.0 │\n",
       "│ 2022-01-01 00:00:00 │     24.0 │ Clothes │     1 │     1 │  2022 │         24.0 │\n",
       "│ 2022-01-02 00:00:00 │     3.75 │ Coffee  │     2 │     1 │  2022 │         3.75 │\n",
       "│ 2022-01-05 00:00:00 │     20.0 │ Gift    │     5 │     1 │  2022 │         20.0 │\n",
       "│ 2022-01-06 00:00:00 │      5.0 │ Clothes │     6 │     1 │  2022 │          5.0 │\n",
       "│ 2022-01-07 00:00:00 │    100.0 │ Gaming  │     7 │     1 │  2022 │        100.0 │\n",
       "│ 2022-01-08 00:00:00 │     24.5 │ Clothes │     8 │     1 │  2022 │         24.5 │\n",
       "│ 2022-01-09 00:00:00 │      2.0 │ Coffee  │     9 │     1 │  2022 │          2.0 │\n",
       "│ 2022-01-10 00:00:00 │    100.0 │ Book    │    10 │     1 │  2022 │        100.0 │\n",
       "├─────────────────────┴──────────┴─────────┴───────┴───────┴───────┴──────────────┤\n",
       "│ 11 rows                                                               7 columns │\n",
       "└─────────────────────────────────────────────────────────────────────────────────┘"
      ]
     },
     "execution_count": 6,
     "metadata": {},
     "output_type": "execute_result"
    }
   ],
   "source": [
    "# Get the top-3 busiest train stations\n",
    "import duckdb\n",
    "duckdb.sql(\"\"\"\n",
    "           \n",
    "    SELECT \n",
    "           *,\n",
    "           COALESCE(Expenses, 0) AS Expenses_mod\n",
    "    FROM df\n",
    "           \n",
    "    \"\"\")"
   ]
  }
 ],
 "metadata": {
  "kernelspec": {
   "display_name": "Python 3 (ipykernel)",
   "language": "python",
   "name": "python3"
  },
  "language_info": {
   "codemirror_mode": {
    "name": "ipython",
    "version": 3
   },
   "file_extension": ".py",
   "mimetype": "text/x-python",
   "name": "python",
   "nbconvert_exporter": "python",
   "pygments_lexer": "ipython3",
   "version": "3.10.11"
  },
  "toc": {
   "base_numbering": 1,
   "nav_menu": {},
   "number_sections": true,
   "sideBar": true,
   "skip_h1_title": false,
   "title_cell": "Table of Contents",
   "title_sidebar": "Contents",
   "toc_cell": false,
   "toc_position": {
    "height": "calc(100% - 180px)",
    "left": "10px",
    "top": "150px",
    "width": "355.753662px"
   },
   "toc_section_display": true,
   "toc_window_display": false
  }
 },
 "nbformat": 4,
 "nbformat_minor": 5
}
